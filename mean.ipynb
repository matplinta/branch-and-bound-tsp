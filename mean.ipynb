{
 "cells": [
  {
   "cell_type": "code",
   "execution_count": 3,
   "metadata": {},
   "outputs": [],
   "source": [
    "import pandas as pd\n",
    "from os import listdir\n",
    "from os.path import isfile, join"
   ]
  },
  {
   "cell_type": "code",
   "execution_count": 4,
   "metadata": {},
   "outputs": [],
   "source": [
    "def avg(path, output_path):\n",
    "    shared_files = [join(path, f) for f in listdir(path) if isfile(join(path, f))]\n",
    "    shared_files = filter(lambda x:x.endswith((\".csv\")), shared_files)\n",
    "    shared_list = []\n",
    "    for file in shared_files:\n",
    "        shared_list.append(pd.read_csv(file))\n",
    "        \n",
    "    shared_list[0]['time'].head()\n",
    "    shared_list[1]['time'].head()\n",
    "    \n",
    "    total_readers = len(shared_list)\n",
    "    total_rows = len(shared_list[0]['time'])\n",
    "    time = [0 for i in range(total_rows)]\n",
    "\n",
    "    for reader in shared_list:\n",
    "        for idx, value in enumerate(reader['time']):\n",
    "            time[idx] += float(value)\n",
    "\n",
    "    time = [x/total_readers for x in time]\n",
    "    \n",
    "    reader = shared_list[0]\n",
    "    reader['time'] = time\n",
    "    reader.to_csv(output_path)"
   ]
  },
  {
   "cell_type": "markdown",
   "metadata": {},
   "source": [
    "# Basic & Advanced"
   ]
  },
  {
   "cell_type": "code",
   "execution_count": 5,
   "metadata": {},
   "outputs": [],
   "source": [
    "avg(\"logs/basic/\", \"logs/basic.csv\")\n",
    "avg(\"logs/advanced/\", \"logs/advanced.csv\")"
   ]
  },
  {
   "cell_type": "code",
   "execution_count": null,
   "metadata": {},
   "outputs": [],
   "source": []
  }
 ],
 "metadata": {
  "kernelspec": {
   "display_name": "Python 3",
   "language": "python",
   "name": "python3"
  },
  "language_info": {
   "codemirror_mode": {
    "name": "ipython",
    "version": 3
   },
   "file_extension": ".py",
   "mimetype": "text/x-python",
   "name": "python",
   "nbconvert_exporter": "python",
   "pygments_lexer": "ipython3",
   "version": "3.8.0"
  }
 },
 "nbformat": 4,
 "nbformat_minor": 2
}
